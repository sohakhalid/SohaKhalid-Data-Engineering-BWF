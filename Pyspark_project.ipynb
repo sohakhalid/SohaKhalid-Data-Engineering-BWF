{
  "cells": [
    {
      "cell_type": "markdown",
      "metadata": {
        "id": "view-in-github",
        "colab_type": "text"
      },
      "source": [
        "<a href=\"https://colab.research.google.com/github/sohakhalid/SohaKhalid-Data-Engineering-BWF/blob/main/Pyspark_project.ipynb\" target=\"_parent\"><img src=\"https://colab.research.google.com/assets/colab-badge.svg\" alt=\"Open In Colab\"/></a>"
      ]
    },
    {
      "cell_type": "code",
      "execution_count": 2,
      "metadata": {
        "id": "gsSwY1AdYXkj",
        "colab": {
          "base_uri": "https://localhost:8080/"
        },
        "outputId": "6208e46d-6864-40f6-971e-665ad5e896e8"
      },
      "outputs": [
        {
          "output_type": "stream",
          "name": "stdout",
          "text": [
            "Collecting pyspark\n",
            "  Downloading pyspark-3.5.2.tar.gz (317.3 MB)\n",
            "\u001b[2K     \u001b[90m━━━━━━━━━━━━━━━━━━━━━━━━━━━━━━━━━━━━━━━━\u001b[0m \u001b[32m317.3/317.3 MB\u001b[0m \u001b[31m4.5 MB/s\u001b[0m eta \u001b[36m0:00:00\u001b[0m\n",
            "\u001b[?25h  Preparing metadata (setup.py) ... \u001b[?25l\u001b[?25hdone\n",
            "Requirement already satisfied: py4j==0.10.9.7 in /usr/local/lib/python3.10/dist-packages (from pyspark) (0.10.9.7)\n",
            "Building wheels for collected packages: pyspark\n",
            "  Building wheel for pyspark (setup.py) ... \u001b[?25l\u001b[?25hdone\n",
            "  Created wheel for pyspark: filename=pyspark-3.5.2-py2.py3-none-any.whl size=317812365 sha256=75159fbf1343b7cc09ff75bef820cd5f2a1326d919fa7ddadd473e999aaa2b26\n",
            "  Stored in directory: /root/.cache/pip/wheels/34/34/bd/03944534c44b677cd5859f248090daa9fb27b3c8f8e5f49574\n",
            "Successfully built pyspark\n",
            "Installing collected packages: pyspark\n",
            "Successfully installed pyspark-3.5.2\n"
          ]
        }
      ],
      "source": [
        "!pip install pyspark\n",
        "# Import PySpark\n",
        "from pyspark.sql import SparkSession\n",
        "from pyspark.sql.functions import when, hour, col\n",
        "from pyspark.sql.types import TimestampType"
      ]
    },
    {
      "cell_type": "code",
      "execution_count": 3,
      "metadata": {
        "id": "YYju3hoqp7Vl"
      },
      "outputs": [],
      "source": [
        "# Create a SparkSession\n",
        "spark = SparkSession.builder \\\n",
        "    .appName(\"BWF-PySparkTask\") \\\n",
        "    .getOrCreate()"
      ]
    },
    {
      "cell_type": "code",
      "execution_count": 11,
      "metadata": {
        "id": "lj_vBYqBp88I"
      },
      "outputs": [],
      "source": [
        "# Path to your CSV file\n",
        "file_path = '/data.csv'"
      ]
    },
    {
      "cell_type": "code",
      "execution_count": 12,
      "metadata": {
        "colab": {
          "base_uri": "https://localhost:8080/"
        },
        "id": "rq-GVROMp_pM",
        "outputId": "b88dbcd2-f29c-4b04-d8e6-c75878738b25"
      },
      "outputs": [
        {
          "output_type": "stream",
          "name": "stdout",
          "text": [
            "+-------------------+--------+--------------------+-------------+------------+-----------------+----------------+------------+----------+--------+--------+\n",
            "|         order_date|order_id|             product|   product_id|    category| purchase_address|quantity_ordered|  price_each|cost_price|turnover|  margin|\n",
            "+-------------------+--------+--------------------+-------------+------------+-----------------+----------------+------------+----------+--------+--------+\n",
            "|2023-01-22 21:25:00|  141234|              iPhone|5638008983335|   Vêtements| \"\"\"944 Walnut St|          Boston| MA 02215\"\"\"|         1|   700.0|   231.0|\n",
            "|2023-01-28 14:15:00|  141235|Lightning Chargin...|5563319511488|Alimentation|  \"\"\"185 Maple St|        Portland| OR 97035\"\"\"|         1|   14.95|   7.475|\n",
            "|2023-01-17 13:33:00|  141236|    Wired Headphones|2113973395220|   Vêtements|  \"\"\"538 Adams St|   San Francisco| CA 94016\"\"\"|         2|   11.99|   5.995|\n",
            "|2023-01-05 20:33:00|  141237|    27in FHD Monitor|3069156759167|      Sports|   \"\"\"738 10th St|     Los Angeles| CA 90001\"\"\"|         1|  149.99| 97.4935|\n",
            "|2023-01-25 11:59:00|  141238|    Wired Headphones|9692680938163|Électronique|   \"\"\"387 10th St|          Austin| TX 73301\"\"\"|         1|   11.99|   5.995|\n",
            "|2023-01-29 20:22:00|  141239|AAA Batteries (4-...|2953868554188|Alimentation| \"\"\"775 Willow St|   San Francisco| CA 94016\"\"\"|         1|    2.99|   1.495|\n",
            "|2023-01-26 12:16:00|  141240|27in 4K Gaming Mo...|5173670800988|   Vêtements|   \"\"\"979 Park St|     Los Angeles| CA 90001\"\"\"|         1|  389.99|128.6967|\n",
            "|2023-01-05 12:04:00|  141241|USB-C Charging Cable|8051736777568|   Vêtements|    \"\"\"181 6th St|   San Francisco| CA 94016\"\"\"|         1|   11.95|   5.975|\n",
            "|2023-01-01 10:30:00|  141242|Bose SoundSport H...|1508418177978|Électronique| \"\"\"867 Willow St|     Los Angeles| CA 90001\"\"\"|         1|   99.99|  49.995|\n",
            "|2023-01-22 21:20:00|  141243|Apple Airpods Hea...|1386344211590|Électronique|\"\"\"657 Johnson St|   San Francisco| CA 94016\"\"\"|         1|   150.0|    97.5|\n",
            "|2023-01-07 11:29:00|  141244|Apple Airpods Hea...|4332898830865|   Vêtements| \"\"\"492 Walnut St|   San Francisco| CA 94016\"\"\"|         1|   150.0|    97.5|\n",
            "|2023-01-31 10:12:00|  141245|  Macbook Pro Laptop|1169379570345|   Vêtements|    \"\"\"322 6th St|   San Francisco| CA 94016\"\"\"|         1|  1700.0|   561.0|\n",
            "|2023-01-09 18:57:00|  141246|AAA Batteries (4-...|4436184749366|   Vêtements|    \"\"\"618 7th St|     Los Angeles| CA 90001\"\"\"|         3|    2.99|   1.495|\n",
            "|2023-01-25 19:19:00|  141247|    27in FHD Monitor|7313825995563|   Vêtements| \"\"\"512 Wilson St|   San Francisco| CA 94016\"\"\"|         1|  149.99| 97.4935|\n",
            "|2023-01-03 21:54:00|  141248|       Flatscreen TV|4062756463060|Électronique| \"\"\"363 Spruce St|          Austin| TX 73301\"\"\"|         1|   300.0|    99.0|\n",
            "|2023-01-05 17:20:00|  141249|    27in FHD Monitor|9643428300795|Alimentation|  \"\"\"440 Cedar St|        Portland| OR 97035\"\"\"|         1|  149.99| 97.4935|\n",
            "|2023-01-10 11:20:00|  141250|     Vareebadd Phone|6721780072847|Alimentation| \"\"\"471 Center St|     Los Angeles| CA 90001\"\"\"|         1|   400.0|   132.0|\n",
            "|2023-01-24 08:13:00|  141251|Apple Airpods Hea...|2700099961823|Alimentation| \"\"\"414 Walnut St|          Boston| MA 02215\"\"\"|         1|   150.0|    97.5|\n",
            "|2023-01-30 09:28:00|  141252|USB-C Charging Cable|3692435232121|      Sports|    \"\"\"220 9th St|     Los Angeles| CA 90001\"\"\"|         1|   11.95|   5.975|\n",
            "|2023-01-17 00:09:00|  141253|AA Batteries (4-p...|6741495725758|Alimentation|   \"\"\"385 11th St|         Atlanta| GA 30301\"\"\"|         1|    3.84|    1.92|\n",
            "+-------------------+--------+--------------------+-------------+------------+-----------------+----------------+------------+----------+--------+--------+\n",
            "only showing top 20 rows\n",
            "\n"
          ]
        }
      ],
      "source": [
        "# Read CSV into DataFrame\n",
        "orders_data = spark.read.csv(file_path, header=True, inferSchema=True)\n",
        "\n",
        "# Display the DataFrame with reordered columns\n",
        "orders_data.show()"
      ]
    },
    {
      "cell_type": "code",
      "execution_count": 13,
      "metadata": {
        "colab": {
          "base_uri": "https://localhost:8080/"
        },
        "id": "2VTQxFULrXb8",
        "outputId": "57710b5b-0ed3-45f8-c449-34d5280bafca"
      },
      "outputs": [
        {
          "output_type": "stream",
          "name": "stdout",
          "text": [
            "+-------------------+-----------+--------+--------------------------+-------------+------------+-----------------+----------------+------------+----------+--------+--------+\n",
            "|order_date         |time_of_day|order_id|product                   |product_id   |category    |purchase_address |quantity_ordered|price_each  |cost_price|turnover|margin  |\n",
            "+-------------------+-----------+--------+--------------------------+-------------+------------+-----------------+----------------+------------+----------+--------+--------+\n",
            "|2023-01-22 21:25:00|evening    |141234  |iPhone                    |5638008983335|Vêtements   |\"\"\"944 Walnut St | Boston         | MA 02215\"\"\"|1         |700.0   |231.0   |\n",
            "|2023-01-28 14:15:00|afternoon  |141235  |Lightning Charging Cable  |5563319511488|Alimentation|\"\"\"185 Maple St  | Portland       | OR 97035\"\"\"|1         |14.95   |7.475   |\n",
            "|2023-01-17 13:33:00|afternoon  |141236  |Wired Headphones          |2113973395220|Vêtements   |\"\"\"538 Adams St  | San Francisco  | CA 94016\"\"\"|2         |11.99   |5.995   |\n",
            "|2023-01-05 20:33:00|evening    |141237  |27in FHD Monitor          |3069156759167|Sports      |\"\"\"738 10th St   | Los Angeles    | CA 90001\"\"\"|1         |149.99  |97.4935 |\n",
            "|2023-01-25 11:59:00|morning    |141238  |Wired Headphones          |9692680938163|Électronique|\"\"\"387 10th St   | Austin         | TX 73301\"\"\"|1         |11.99   |5.995   |\n",
            "|2023-01-29 20:22:00|evening    |141239  |AAA Batteries (4-pack)    |2953868554188|Alimentation|\"\"\"775 Willow St | San Francisco  | CA 94016\"\"\"|1         |2.99    |1.495   |\n",
            "|2023-01-26 12:16:00|afternoon  |141240  |27in 4K Gaming Monitor    |5173670800988|Vêtements   |\"\"\"979 Park St   | Los Angeles    | CA 90001\"\"\"|1         |389.99  |128.6967|\n",
            "|2023-01-05 12:04:00|afternoon  |141241  |USB-C Charging Cable      |8051736777568|Vêtements   |\"\"\"181 6th St    | San Francisco  | CA 94016\"\"\"|1         |11.95   |5.975   |\n",
            "|2023-01-01 10:30:00|morning    |141242  |Bose SoundSport Headphones|1508418177978|Électronique|\"\"\"867 Willow St | Los Angeles    | CA 90001\"\"\"|1         |99.99   |49.995  |\n",
            "|2023-01-22 21:20:00|evening    |141243  |Apple Airpods Headphones  |1386344211590|Électronique|\"\"\"657 Johnson St| San Francisco  | CA 94016\"\"\"|1         |150.0   |97.5    |\n",
            "|2023-01-07 11:29:00|morning    |141244  |Apple Airpods Headphones  |4332898830865|Vêtements   |\"\"\"492 Walnut St | San Francisco  | CA 94016\"\"\"|1         |150.0   |97.5    |\n",
            "|2023-01-31 10:12:00|morning    |141245  |Macbook Pro Laptop        |1169379570345|Vêtements   |\"\"\"322 6th St    | San Francisco  | CA 94016\"\"\"|1         |1700.0  |561.0   |\n",
            "|2023-01-09 18:57:00|evening    |141246  |AAA Batteries (4-pack)    |4436184749366|Vêtements   |\"\"\"618 7th St    | Los Angeles    | CA 90001\"\"\"|3         |2.99    |1.495   |\n",
            "|2023-01-25 19:19:00|evening    |141247  |27in FHD Monitor          |7313825995563|Vêtements   |\"\"\"512 Wilson St | San Francisco  | CA 94016\"\"\"|1         |149.99  |97.4935 |\n",
            "|2023-01-03 21:54:00|evening    |141248  |Flatscreen TV             |4062756463060|Électronique|\"\"\"363 Spruce St | Austin         | TX 73301\"\"\"|1         |300.0   |99.0    |\n",
            "|2023-01-05 17:20:00|afternoon  |141249  |27in FHD Monitor          |9643428300795|Alimentation|\"\"\"440 Cedar St  | Portland       | OR 97035\"\"\"|1         |149.99  |97.4935 |\n",
            "|2023-01-10 11:20:00|morning    |141250  |Vareebadd Phone           |6721780072847|Alimentation|\"\"\"471 Center St | Los Angeles    | CA 90001\"\"\"|1         |400.0   |132.0   |\n",
            "|2023-01-24 08:13:00|morning    |141251  |Apple Airpods Headphones  |2700099961823|Alimentation|\"\"\"414 Walnut St | Boston         | MA 02215\"\"\"|1         |150.0   |97.5    |\n",
            "|2023-01-30 09:28:00|morning    |141252  |USB-C Charging Cable      |3692435232121|Sports      |\"\"\"220 9th St    | Los Angeles    | CA 90001\"\"\"|1         |11.95   |5.975   |\n",
            "|2023-01-17 00:09:00|night      |141253  |AA Batteries (4-pack)     |6741495725758|Alimentation|\"\"\"385 11th St   | Atlanta        | GA 30301\"\"\"|1         |3.84    |1.92    |\n",
            "+-------------------+-----------+--------+--------------------------+-------------+------------+-----------------+----------------+------------+----------+--------+--------+\n",
            "only showing top 20 rows\n",
            "\n"
          ]
        }
      ],
      "source": [
        "# Add time_of_day column based on the hour\n",
        "orders_data = orders_data.withColumn(\n",
        "    \"time_of_day\",\n",
        "    when((hour(col(\"order_date\")) >= 5) & (hour(col(\"order_date\")) < 12), \"morning\")\n",
        "    .when((hour(col(\"order_date\")) >= 12) & (hour(col(\"order_date\")) < 18), \"afternoon\")\n",
        "    .when((hour(col(\"order_date\")) >= 18) & (hour(col(\"order_date\")) < 24), \"evening\")\n",
        "    .otherwise(\"night\")\n",
        ")\n",
        "\n",
        "# Reorder columns to place 'time_of_day' at index 1\n",
        "columns = orders_data.columns\n",
        "desired_index = 1\n",
        "# Remove 'time_of_day' from columns list to avoid duplication\n",
        "columns.remove('time_of_day')\n",
        "# Insert 'time_of_day' at the desired index\n",
        "new_columns = columns[:desired_index] + ['time_of_day'] + columns[desired_index:]\n",
        "\n",
        "# Reorder the DataFrame columns\n",
        "orders_data = orders_data.select(new_columns)\n",
        "\n",
        "# Display the DataFrame with reordered columns\n",
        "orders_data.show(truncate=False)"
      ]
    },
    {
      "cell_type": "code",
      "execution_count": 14,
      "metadata": {
        "colab": {
          "base_uri": "https://localhost:8080/"
        },
        "id": "QHzCNPPSrZwS",
        "outputId": "53df9bfc-85a2-47b0-c589-b1adf47f389c"
      },
      "outputs": [
        {
          "output_type": "stream",
          "name": "stdout",
          "text": [
            "+-------------------+-----------+--------+--------------------------+-------------+------------+-----------------+----------------+------------+----------+--------+--------+\n",
            "|order_date         |time_of_day|order_id|product                   |product_id   |category    |purchase_address |quantity_ordered|price_each  |cost_price|turnover|margin  |\n",
            "+-------------------+-----------+--------+--------------------------+-------------+------------+-----------------+----------------+------------+----------+--------+--------+\n",
            "|2023-01-22 21:25:00|evening    |141234  |iPhone                    |5638008983335|Vêtements   |\"\"\"944 Walnut St | Boston         | MA 02215\"\"\"|1         |700.0   |231.0   |\n",
            "|2023-01-28 14:15:00|afternoon  |141235  |Lightning Charging Cable  |5563319511488|Alimentation|\"\"\"185 Maple St  | Portland       | OR 97035\"\"\"|1         |14.95   |7.475   |\n",
            "|2023-01-17 13:33:00|afternoon  |141236  |Wired Headphones          |2113973395220|Vêtements   |\"\"\"538 Adams St  | San Francisco  | CA 94016\"\"\"|2         |11.99   |5.995   |\n",
            "|2023-01-05 20:33:00|evening    |141237  |27in FHD Monitor          |3069156759167|Sports      |\"\"\"738 10th St   | Los Angeles    | CA 90001\"\"\"|1         |149.99  |97.4935 |\n",
            "|2023-01-25 11:59:00|morning    |141238  |Wired Headphones          |9692680938163|Électronique|\"\"\"387 10th St   | Austin         | TX 73301\"\"\"|1         |11.99   |5.995   |\n",
            "|2023-01-29 20:22:00|evening    |141239  |AAA Batteries (4-pack)    |2953868554188|Alimentation|\"\"\"775 Willow St | San Francisco  | CA 94016\"\"\"|1         |2.99    |1.495   |\n",
            "|2023-01-26 12:16:00|afternoon  |141240  |27in 4K Gaming Monitor    |5173670800988|Vêtements   |\"\"\"979 Park St   | Los Angeles    | CA 90001\"\"\"|1         |389.99  |128.6967|\n",
            "|2023-01-05 12:04:00|afternoon  |141241  |USB-C Charging Cable      |8051736777568|Vêtements   |\"\"\"181 6th St    | San Francisco  | CA 94016\"\"\"|1         |11.95   |5.975   |\n",
            "|2023-01-01 10:30:00|morning    |141242  |Bose SoundSport Headphones|1508418177978|Électronique|\"\"\"867 Willow St | Los Angeles    | CA 90001\"\"\"|1         |99.99   |49.995  |\n",
            "|2023-01-22 21:20:00|evening    |141243  |Apple Airpods Headphones  |1386344211590|Électronique|\"\"\"657 Johnson St| San Francisco  | CA 94016\"\"\"|1         |150.0   |97.5    |\n",
            "|2023-01-07 11:29:00|morning    |141244  |Apple Airpods Headphones  |4332898830865|Vêtements   |\"\"\"492 Walnut St | San Francisco  | CA 94016\"\"\"|1         |150.0   |97.5    |\n",
            "|2023-01-31 10:12:00|morning    |141245  |Macbook Pro Laptop        |1169379570345|Vêtements   |\"\"\"322 6th St    | San Francisco  | CA 94016\"\"\"|1         |1700.0  |561.0   |\n",
            "|2023-01-09 18:57:00|evening    |141246  |AAA Batteries (4-pack)    |4436184749366|Vêtements   |\"\"\"618 7th St    | Los Angeles    | CA 90001\"\"\"|3         |2.99    |1.495   |\n",
            "|2023-01-25 19:19:00|evening    |141247  |27in FHD Monitor          |7313825995563|Vêtements   |\"\"\"512 Wilson St | San Francisco  | CA 94016\"\"\"|1         |149.99  |97.4935 |\n",
            "|2023-01-03 21:54:00|evening    |141248  |Flatscreen TV             |4062756463060|Électronique|\"\"\"363 Spruce St | Austin         | TX 73301\"\"\"|1         |300.0   |99.0    |\n",
            "|2023-01-05 17:20:00|afternoon  |141249  |27in FHD Monitor          |9643428300795|Alimentation|\"\"\"440 Cedar St  | Portland       | OR 97035\"\"\"|1         |149.99  |97.4935 |\n",
            "|2023-01-10 11:20:00|morning    |141250  |Vareebadd Phone           |6721780072847|Alimentation|\"\"\"471 Center St | Los Angeles    | CA 90001\"\"\"|1         |400.0   |132.0   |\n",
            "|2023-01-24 08:13:00|morning    |141251  |Apple Airpods Headphones  |2700099961823|Alimentation|\"\"\"414 Walnut St | Boston         | MA 02215\"\"\"|1         |150.0   |97.5    |\n",
            "|2023-01-30 09:28:00|morning    |141252  |USB-C Charging Cable      |3692435232121|Sports      |\"\"\"220 9th St    | Los Angeles    | CA 90001\"\"\"|1         |11.95   |5.975   |\n",
            "|2023-01-08 11:51:00|morning    |141254  |AAA Batteries (4-pack)    |8219536039183|Électronique|\"\"\"238 Sunset St | Seattle        | WA 98101\"\"\"|1         |2.99    |1.495   |\n",
            "+-------------------+-----------+--------+--------------------------+-------------+------------+-----------------+----------------+------------+----------+--------+--------+\n",
            "only showing top 20 rows\n",
            "\n"
          ]
        }
      ],
      "source": [
        "from pyspark.sql.functions import hour, col\n",
        "\n",
        "# Extract the hour from order_date and filter out rows where the hour is between 0 and 5 inclusive\n",
        "orders_data = orders_data.filter((hour(col(\"order_date\")) < 0) | (hour(col(\"order_date\")) > 5))\n",
        "\n",
        "orders_data.show(truncate=False)"
      ]
    },
    {
      "cell_type": "code",
      "execution_count": 15,
      "metadata": {
        "colab": {
          "base_uri": "https://localhost:8080/"
        },
        "id": "eaDzENk_reTJ",
        "outputId": "c79edc73-d8dc-4bad-924c-033367fbf436"
      },
      "outputs": [
        {
          "output_type": "stream",
          "name": "stdout",
          "text": [
            "+----------+-----------+--------+--------------------------+-------------+------------+-----------------+----------------+------------+----------+--------+--------+\n",
            "|order_date|time_of_day|order_id|product                   |product_id   |category    |purchase_address |quantity_ordered|price_each  |cost_price|turnover|margin  |\n",
            "+----------+-----------+--------+--------------------------+-------------+------------+-----------------+----------------+------------+----------+--------+--------+\n",
            "|2023-01-22|evening    |141234  |iPhone                    |5638008983335|Vêtements   |\"\"\"944 Walnut St | Boston         | MA 02215\"\"\"|1         |700.0   |231.0   |\n",
            "|2023-01-28|afternoon  |141235  |Lightning Charging Cable  |5563319511488|Alimentation|\"\"\"185 Maple St  | Portland       | OR 97035\"\"\"|1         |14.95   |7.475   |\n",
            "|2023-01-17|afternoon  |141236  |Wired Headphones          |2113973395220|Vêtements   |\"\"\"538 Adams St  | San Francisco  | CA 94016\"\"\"|2         |11.99   |5.995   |\n",
            "|2023-01-05|evening    |141237  |27in FHD Monitor          |3069156759167|Sports      |\"\"\"738 10th St   | Los Angeles    | CA 90001\"\"\"|1         |149.99  |97.4935 |\n",
            "|2023-01-25|morning    |141238  |Wired Headphones          |9692680938163|Électronique|\"\"\"387 10th St   | Austin         | TX 73301\"\"\"|1         |11.99   |5.995   |\n",
            "|2023-01-29|evening    |141239  |AAA Batteries (4-pack)    |2953868554188|Alimentation|\"\"\"775 Willow St | San Francisco  | CA 94016\"\"\"|1         |2.99    |1.495   |\n",
            "|2023-01-26|afternoon  |141240  |27in 4K Gaming Monitor    |5173670800988|Vêtements   |\"\"\"979 Park St   | Los Angeles    | CA 90001\"\"\"|1         |389.99  |128.6967|\n",
            "|2023-01-05|afternoon  |141241  |USB-C Charging Cable      |8051736777568|Vêtements   |\"\"\"181 6th St    | San Francisco  | CA 94016\"\"\"|1         |11.95   |5.975   |\n",
            "|2023-01-01|morning    |141242  |Bose SoundSport Headphones|1508418177978|Électronique|\"\"\"867 Willow St | Los Angeles    | CA 90001\"\"\"|1         |99.99   |49.995  |\n",
            "|2023-01-22|evening    |141243  |Apple Airpods Headphones  |1386344211590|Électronique|\"\"\"657 Johnson St| San Francisco  | CA 94016\"\"\"|1         |150.0   |97.5    |\n",
            "|2023-01-07|morning    |141244  |Apple Airpods Headphones  |4332898830865|Vêtements   |\"\"\"492 Walnut St | San Francisco  | CA 94016\"\"\"|1         |150.0   |97.5    |\n",
            "|2023-01-31|morning    |141245  |Macbook Pro Laptop        |1169379570345|Vêtements   |\"\"\"322 6th St    | San Francisco  | CA 94016\"\"\"|1         |1700.0  |561.0   |\n",
            "|2023-01-09|evening    |141246  |AAA Batteries (4-pack)    |4436184749366|Vêtements   |\"\"\"618 7th St    | Los Angeles    | CA 90001\"\"\"|3         |2.99    |1.495   |\n",
            "|2023-01-25|evening    |141247  |27in FHD Monitor          |7313825995563|Vêtements   |\"\"\"512 Wilson St | San Francisco  | CA 94016\"\"\"|1         |149.99  |97.4935 |\n",
            "|2023-01-03|evening    |141248  |Flatscreen TV             |4062756463060|Électronique|\"\"\"363 Spruce St | Austin         | TX 73301\"\"\"|1         |300.0   |99.0    |\n",
            "|2023-01-05|afternoon  |141249  |27in FHD Monitor          |9643428300795|Alimentation|\"\"\"440 Cedar St  | Portland       | OR 97035\"\"\"|1         |149.99  |97.4935 |\n",
            "|2023-01-10|morning    |141250  |Vareebadd Phone           |6721780072847|Alimentation|\"\"\"471 Center St | Los Angeles    | CA 90001\"\"\"|1         |400.0   |132.0   |\n",
            "|2023-01-24|morning    |141251  |Apple Airpods Headphones  |2700099961823|Alimentation|\"\"\"414 Walnut St | Boston         | MA 02215\"\"\"|1         |150.0   |97.5    |\n",
            "|2023-01-30|morning    |141252  |USB-C Charging Cable      |3692435232121|Sports      |\"\"\"220 9th St    | Los Angeles    | CA 90001\"\"\"|1         |11.95   |5.975   |\n",
            "|2023-01-08|morning    |141254  |AAA Batteries (4-pack)    |8219536039183|Électronique|\"\"\"238 Sunset St | Seattle        | WA 98101\"\"\"|1         |2.99    |1.495   |\n",
            "+----------+-----------+--------+--------------------------+-------------+------------+-----------------+----------------+------------+----------+--------+--------+\n",
            "only showing top 20 rows\n",
            "\n"
          ]
        }
      ],
      "source": [
        "from pyspark.sql.functions import to_date\n",
        "\n",
        "# Convert order_date column from timestamp to date\n",
        "orders_data = orders_data.withColumn(\"order_date\", to_date(col(\"order_date\")))\n",
        "\n",
        "orders_data.show(truncate=False)"
      ]
    },
    {
      "cell_type": "code",
      "execution_count": 16,
      "metadata": {
        "id": "z-nUHGtIrgQh"
      },
      "outputs": [],
      "source": [
        "# Remove rows where the product column has the value \"TV\"\n",
        "orders_data = orders_data.filter(col(\"product\") != \"TV\")"
      ]
    },
    {
      "cell_type": "code",
      "execution_count": 17,
      "metadata": {
        "colab": {
          "base_uri": "https://localhost:8080/"
        },
        "id": "5WApojnqrhGi",
        "outputId": "047ddc41-7daf-45ff-dbd7-65aae6bef8eb"
      },
      "outputs": [
        {
          "output_type": "stream",
          "name": "stdout",
          "text": [
            "+----------+-----------+--------+--------------------------+-------------+------------+-----------------+----------------+------------+----------+--------+--------+\n",
            "|order_date|time_of_day|order_id|product                   |product_id   |category    |purchase_address |quantity_ordered|price_each  |cost_price|turnover|margin  |\n",
            "+----------+-----------+--------+--------------------------+-------------+------------+-----------------+----------------+------------+----------+--------+--------+\n",
            "|2023-01-22|evening    |141234  |iPhone                    |5638008983335|Vêtements   |\"\"\"944 Walnut St | Boston         | MA 02215\"\"\"|1         |700.0   |231.0   |\n",
            "|2023-01-28|afternoon  |141235  |Lightning Charging Cable  |5563319511488|Alimentation|\"\"\"185 Maple St  | Portland       | OR 97035\"\"\"|1         |14.95   |7.475   |\n",
            "|2023-01-17|afternoon  |141236  |Wired Headphones          |2113973395220|Vêtements   |\"\"\"538 Adams St  | San Francisco  | CA 94016\"\"\"|2         |11.99   |5.995   |\n",
            "|2023-01-05|evening    |141237  |27in FHD Monitor          |3069156759167|Sports      |\"\"\"738 10th St   | Los Angeles    | CA 90001\"\"\"|1         |149.99  |97.4935 |\n",
            "|2023-01-25|morning    |141238  |Wired Headphones          |9692680938163|Électronique|\"\"\"387 10th St   | Austin         | TX 73301\"\"\"|1         |11.99   |5.995   |\n",
            "|2023-01-29|evening    |141239  |AAA Batteries (4-pack)    |2953868554188|Alimentation|\"\"\"775 Willow St | San Francisco  | CA 94016\"\"\"|1         |2.99    |1.495   |\n",
            "|2023-01-26|afternoon  |141240  |27in 4K Gaming Monitor    |5173670800988|Vêtements   |\"\"\"979 Park St   | Los Angeles    | CA 90001\"\"\"|1         |389.99  |128.6967|\n",
            "|2023-01-05|afternoon  |141241  |USB-C Charging Cable      |8051736777568|Vêtements   |\"\"\"181 6th St    | San Francisco  | CA 94016\"\"\"|1         |11.95   |5.975   |\n",
            "|2023-01-01|morning    |141242  |Bose SoundSport Headphones|1508418177978|Électronique|\"\"\"867 Willow St | Los Angeles    | CA 90001\"\"\"|1         |99.99   |49.995  |\n",
            "|2023-01-22|evening    |141243  |Apple Airpods Headphones  |1386344211590|Électronique|\"\"\"657 Johnson St| San Francisco  | CA 94016\"\"\"|1         |150.0   |97.5    |\n",
            "|2023-01-07|morning    |141244  |Apple Airpods Headphones  |4332898830865|Vêtements   |\"\"\"492 Walnut St | San Francisco  | CA 94016\"\"\"|1         |150.0   |97.5    |\n",
            "|2023-01-31|morning    |141245  |Macbook Pro Laptop        |1169379570345|Vêtements   |\"\"\"322 6th St    | San Francisco  | CA 94016\"\"\"|1         |1700.0  |561.0   |\n",
            "|2023-01-09|evening    |141246  |AAA Batteries (4-pack)    |4436184749366|Vêtements   |\"\"\"618 7th St    | Los Angeles    | CA 90001\"\"\"|3         |2.99    |1.495   |\n",
            "|2023-01-25|evening    |141247  |27in FHD Monitor          |7313825995563|Vêtements   |\"\"\"512 Wilson St | San Francisco  | CA 94016\"\"\"|1         |149.99  |97.4935 |\n",
            "|2023-01-03|evening    |141248  |Flatscreen TV             |4062756463060|Électronique|\"\"\"363 Spruce St | Austin         | TX 73301\"\"\"|1         |300.0   |99.0    |\n",
            "|2023-01-05|afternoon  |141249  |27in FHD Monitor          |9643428300795|Alimentation|\"\"\"440 Cedar St  | Portland       | OR 97035\"\"\"|1         |149.99  |97.4935 |\n",
            "|2023-01-10|morning    |141250  |Vareebadd Phone           |6721780072847|Alimentation|\"\"\"471 Center St | Los Angeles    | CA 90001\"\"\"|1         |400.0   |132.0   |\n",
            "|2023-01-24|morning    |141251  |Apple Airpods Headphones  |2700099961823|Alimentation|\"\"\"414 Walnut St | Boston         | MA 02215\"\"\"|1         |150.0   |97.5    |\n",
            "|2023-01-30|morning    |141252  |USB-C Charging Cable      |3692435232121|Sports      |\"\"\"220 9th St    | Los Angeles    | CA 90001\"\"\"|1         |11.95   |5.975   |\n",
            "|2023-01-08|morning    |141254  |AAA Batteries (4-pack)    |8219536039183|Électronique|\"\"\"238 Sunset St | Seattle        | WA 98101\"\"\"|1         |2.99    |1.495   |\n",
            "+----------+-----------+--------+--------------------------+-------------+------------+-----------------+----------------+------------+----------+--------+--------+\n",
            "only showing top 20 rows\n",
            "\n"
          ]
        }
      ],
      "source": [
        "# Show the final DataFrame\n",
        "orders_data.show(truncate=False)"
      ]
    },
    {
      "cell_type": "code",
      "execution_count": 18,
      "metadata": {
        "id": "5UZiGR0BriaG"
      },
      "outputs": [],
      "source": [
        "from pyspark.sql.functions import lower\n",
        "\n",
        "# Ensure all values in the purchase_state column are lowercase\n",
        "orders_data = orders_data.withColumn(\"category\", lower(col(\"category\")))"
      ]
    },
    {
      "cell_type": "code",
      "execution_count": 19,
      "metadata": {
        "colab": {
          "base_uri": "https://localhost:8080/"
        },
        "id": "RGe1yxEarkZo",
        "outputId": "d6f3efb5-d998-4e09-ce0f-959a7006a92d"
      },
      "outputs": [
        {
          "output_type": "stream",
          "name": "stdout",
          "text": [
            "+----------+-----------+--------+--------------------------+-------------+------------+-----------------+----------------+------------+----------+--------+--------+\n",
            "|order_date|time_of_day|order_id|product                   |product_id   |category    |purchase_address |quantity_ordered|price_each  |cost_price|turnover|margin  |\n",
            "+----------+-----------+--------+--------------------------+-------------+------------+-----------------+----------------+------------+----------+--------+--------+\n",
            "|2023-01-22|evening    |141234  |iPhone                    |5638008983335|vêtements   |\"\"\"944 Walnut St | Boston         | MA 02215\"\"\"|1         |700.0   |231.0   |\n",
            "|2023-01-28|afternoon  |141235  |Lightning Charging Cable  |5563319511488|alimentation|\"\"\"185 Maple St  | Portland       | OR 97035\"\"\"|1         |14.95   |7.475   |\n",
            "|2023-01-17|afternoon  |141236  |Wired Headphones          |2113973395220|vêtements   |\"\"\"538 Adams St  | San Francisco  | CA 94016\"\"\"|2         |11.99   |5.995   |\n",
            "|2023-01-05|evening    |141237  |27in FHD Monitor          |3069156759167|sports      |\"\"\"738 10th St   | Los Angeles    | CA 90001\"\"\"|1         |149.99  |97.4935 |\n",
            "|2023-01-25|morning    |141238  |Wired Headphones          |9692680938163|électronique|\"\"\"387 10th St   | Austin         | TX 73301\"\"\"|1         |11.99   |5.995   |\n",
            "|2023-01-29|evening    |141239  |AAA Batteries (4-pack)    |2953868554188|alimentation|\"\"\"775 Willow St | San Francisco  | CA 94016\"\"\"|1         |2.99    |1.495   |\n",
            "|2023-01-26|afternoon  |141240  |27in 4K Gaming Monitor    |5173670800988|vêtements   |\"\"\"979 Park St   | Los Angeles    | CA 90001\"\"\"|1         |389.99  |128.6967|\n",
            "|2023-01-05|afternoon  |141241  |USB-C Charging Cable      |8051736777568|vêtements   |\"\"\"181 6th St    | San Francisco  | CA 94016\"\"\"|1         |11.95   |5.975   |\n",
            "|2023-01-01|morning    |141242  |Bose SoundSport Headphones|1508418177978|électronique|\"\"\"867 Willow St | Los Angeles    | CA 90001\"\"\"|1         |99.99   |49.995  |\n",
            "|2023-01-22|evening    |141243  |Apple Airpods Headphones  |1386344211590|électronique|\"\"\"657 Johnson St| San Francisco  | CA 94016\"\"\"|1         |150.0   |97.5    |\n",
            "|2023-01-07|morning    |141244  |Apple Airpods Headphones  |4332898830865|vêtements   |\"\"\"492 Walnut St | San Francisco  | CA 94016\"\"\"|1         |150.0   |97.5    |\n",
            "|2023-01-31|morning    |141245  |Macbook Pro Laptop        |1169379570345|vêtements   |\"\"\"322 6th St    | San Francisco  | CA 94016\"\"\"|1         |1700.0  |561.0   |\n",
            "|2023-01-09|evening    |141246  |AAA Batteries (4-pack)    |4436184749366|vêtements   |\"\"\"618 7th St    | Los Angeles    | CA 90001\"\"\"|3         |2.99    |1.495   |\n",
            "|2023-01-25|evening    |141247  |27in FHD Monitor          |7313825995563|vêtements   |\"\"\"512 Wilson St | San Francisco  | CA 94016\"\"\"|1         |149.99  |97.4935 |\n",
            "|2023-01-03|evening    |141248  |Flatscreen TV             |4062756463060|électronique|\"\"\"363 Spruce St | Austin         | TX 73301\"\"\"|1         |300.0   |99.0    |\n",
            "|2023-01-05|afternoon  |141249  |27in FHD Monitor          |9643428300795|alimentation|\"\"\"440 Cedar St  | Portland       | OR 97035\"\"\"|1         |149.99  |97.4935 |\n",
            "|2023-01-10|morning    |141250  |Vareebadd Phone           |6721780072847|alimentation|\"\"\"471 Center St | Los Angeles    | CA 90001\"\"\"|1         |400.0   |132.0   |\n",
            "|2023-01-24|morning    |141251  |Apple Airpods Headphones  |2700099961823|alimentation|\"\"\"414 Walnut St | Boston         | MA 02215\"\"\"|1         |150.0   |97.5    |\n",
            "|2023-01-30|morning    |141252  |USB-C Charging Cable      |3692435232121|sports      |\"\"\"220 9th St    | Los Angeles    | CA 90001\"\"\"|1         |11.95   |5.975   |\n",
            "|2023-01-08|morning    |141254  |AAA Batteries (4-pack)    |8219536039183|électronique|\"\"\"238 Sunset St | Seattle        | WA 98101\"\"\"|1         |2.99    |1.495   |\n",
            "+----------+-----------+--------+--------------------------+-------------+------------+-----------------+----------------+------------+----------+--------+--------+\n",
            "only showing top 20 rows\n",
            "\n"
          ]
        }
      ],
      "source": [
        "# Show the final DataFrame\n",
        "orders_data.show(truncate=False)"
      ]
    },
    {
      "cell_type": "code",
      "execution_count": 20,
      "metadata": {
        "id": "4SEUKyCErl1A"
      },
      "outputs": [],
      "source": [
        "from pyspark.sql.functions import substring\n",
        "\n",
        "# State is the 7th and 8th last characters\n",
        "orders_data = orders_data.withColumn(\n",
        "    \"state\",\n",
        "    substring(\"purchase_address\", -8, 2)\n",
        ")"
      ]
    },
    {
      "cell_type": "code",
      "execution_count": 21,
      "metadata": {
        "colab": {
          "base_uri": "https://localhost:8080/"
        },
        "id": "1N2KmhsRroj9",
        "outputId": "d1b57202-4c05-484a-8b5d-321cf4b81cc9"
      },
      "outputs": [
        {
          "output_type": "stream",
          "name": "stdout",
          "text": [
            "+----------+-----------+--------+--------------------------+-------------+------------+-----------------+----------------+------------+----------+--------+--------+-----+\n",
            "|order_date|time_of_day|order_id|product                   |product_id   |category    |purchase_address |quantity_ordered|price_each  |cost_price|turnover|margin  |state|\n",
            "+----------+-----------+--------+--------------------------+-------------+------------+-----------------+----------------+------------+----------+--------+--------+-----+\n",
            "|2023-01-22|evening    |141234  |iPhone                    |5638008983335|vêtements   |\"\"\"944 Walnut St | Boston         | MA 02215\"\"\"|1         |700.0   |231.0   |al   |\n",
            "|2023-01-28|afternoon  |141235  |Lightning Charging Cable  |5563319511488|alimentation|\"\"\"185 Maple St  | Portland       | OR 97035\"\"\"|1         |14.95   |7.475   |Ma   |\n",
            "|2023-01-17|afternoon  |141236  |Wired Headphones          |2113973395220|vêtements   |\"\"\"538 Adams St  | San Francisco  | CA 94016\"\"\"|2         |11.99   |5.995   |Ad   |\n",
            "|2023-01-05|evening    |141237  |27in FHD Monitor          |3069156759167|sports      |\"\"\"738 10th St   | Los Angeles    | CA 90001\"\"\"|1         |149.99  |97.4935 | 1   |\n",
            "|2023-01-25|morning    |141238  |Wired Headphones          |9692680938163|électronique|\"\"\"387 10th St   | Austin         | TX 73301\"\"\"|1         |11.99   |5.995   | 1   |\n",
            "|2023-01-29|evening    |141239  |AAA Batteries (4-pack)    |2953868554188|alimentation|\"\"\"775 Willow St | San Francisco  | CA 94016\"\"\"|1         |2.99    |1.495   |il   |\n",
            "|2023-01-26|afternoon  |141240  |27in 4K Gaming Monitor    |5173670800988|vêtements   |\"\"\"979 Park St   | Los Angeles    | CA 90001\"\"\"|1         |389.99  |128.6967| P   |\n",
            "|2023-01-05|afternoon  |141241  |USB-C Charging Cable      |8051736777568|vêtements   |\"\"\"181 6th St    | San Francisco  | CA 94016\"\"\"|1         |11.95   |5.975   |1    |\n",
            "|2023-01-01|morning    |141242  |Bose SoundSport Headphones|1508418177978|électronique|\"\"\"867 Willow St | Los Angeles    | CA 90001\"\"\"|1         |99.99   |49.995  |il   |\n",
            "|2023-01-22|evening    |141243  |Apple Airpods Headphones  |1386344211590|électronique|\"\"\"657 Johnson St| San Francisco  | CA 94016\"\"\"|1         |150.0   |97.5    |hn   |\n",
            "|2023-01-07|morning    |141244  |Apple Airpods Headphones  |4332898830865|vêtements   |\"\"\"492 Walnut St | San Francisco  | CA 94016\"\"\"|1         |150.0   |97.5    |al   |\n",
            "|2023-01-31|morning    |141245  |Macbook Pro Laptop        |1169379570345|vêtements   |\"\"\"322 6th St    | San Francisco  | CA 94016\"\"\"|1         |1700.0  |561.0   |2    |\n",
            "|2023-01-09|evening    |141246  |AAA Batteries (4-pack)    |4436184749366|vêtements   |\"\"\"618 7th St    | Los Angeles    | CA 90001\"\"\"|3         |2.99    |1.495   |8    |\n",
            "|2023-01-25|evening    |141247  |27in FHD Monitor          |7313825995563|vêtements   |\"\"\"512 Wilson St | San Francisco  | CA 94016\"\"\"|1         |149.99  |97.4935 |il   |\n",
            "|2023-01-03|evening    |141248  |Flatscreen TV             |4062756463060|électronique|\"\"\"363 Spruce St | Austin         | TX 73301\"\"\"|1         |300.0   |99.0    |pr   |\n",
            "|2023-01-05|afternoon  |141249  |27in FHD Monitor          |9643428300795|alimentation|\"\"\"440 Cedar St  | Portland       | OR 97035\"\"\"|1         |149.99  |97.4935 |Ce   |\n",
            "|2023-01-10|morning    |141250  |Vareebadd Phone           |6721780072847|alimentation|\"\"\"471 Center St | Los Angeles    | CA 90001\"\"\"|1         |400.0   |132.0   |en   |\n",
            "|2023-01-24|morning    |141251  |Apple Airpods Headphones  |2700099961823|alimentation|\"\"\"414 Walnut St | Boston         | MA 02215\"\"\"|1         |150.0   |97.5    |al   |\n",
            "|2023-01-30|morning    |141252  |USB-C Charging Cable      |3692435232121|sports      |\"\"\"220 9th St    | Los Angeles    | CA 90001\"\"\"|1         |11.95   |5.975   |0    |\n",
            "|2023-01-08|morning    |141254  |AAA Batteries (4-pack)    |8219536039183|électronique|\"\"\"238 Sunset St | Seattle        | WA 98101\"\"\"|1         |2.99    |1.495   |un   |\n",
            "+----------+-----------+--------+--------------------------+-------------+------------+-----------------+----------------+------------+----------+--------+--------+-----+\n",
            "only showing top 20 rows\n",
            "\n"
          ]
        }
      ],
      "source": [
        "# Show the final DataFrame\n",
        "orders_data.show(truncate=False)"
      ]
    },
    {
      "cell_type": "code",
      "execution_count": 23,
      "metadata": {
        "id": "SianKueNta0c"
      },
      "outputs": [],
      "source": [
        "# Path to save the Parquet file\n",
        "parquet_path = '/orders_data.parquet'\n",
        "\n",
        "# Save DataFrame as Parquet\n",
        "orders_data.write.mode('overwrite').parquet(parquet_path)\n"
      ]
    }
  ],
  "metadata": {
    "colab": {
      "provenance": [],
      "include_colab_link": true
    },
    "kernelspec": {
      "display_name": "Python 3",
      "name": "python3"
    },
    "language_info": {
      "codemirror_mode": {
        "name": "ipython",
        "version": 3
      },
      "file_extension": ".py",
      "mimetype": "text/x-python",
      "name": "python",
      "nbconvert_exporter": "python",
      "pygments_lexer": "ipython3",
      "version": "3.12.4"
    }
  },
  "nbformat": 4,
  "nbformat_minor": 0
}